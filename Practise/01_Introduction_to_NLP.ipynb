{
 "cells": [
  {
   "cell_type": "raw",
   "id": "7b5d21e6-fae2-4844-bca3-2d9a058938b1",
   "metadata": {},
   "source": [
    "NLP has several use cases like Chatbot, Spam Detection in Emails, Assistants and several more, the demand for the scientist using NLP is rising a lot and opportunities are immense."
   ]
  },
  {
   "cell_type": "raw",
   "id": "f1d95c8c-c243-4152-8cb6-f2ee397d6ea9",
   "metadata": {},
   "source": [
    "Why NLP is booming ?\n",
    "\n",
    "1. Freely available Pretrained models.\n",
    "2. OpenSource Ecosystem.\n",
    "3. Cheap hardware, cloud resources.\n",
    "4. Learning Resources.\n",
    "5. Big Investments by Big Tech."
   ]
  },
  {
   "cell_type": "code",
   "execution_count": null,
   "id": "9f1ede88-8a90-4b45-8463-13955af34574",
   "metadata": {},
   "outputs": [],
   "source": []
  }
 ],
 "metadata": {
  "kernelspec": {
   "display_name": "Python 3 (ipykernel)",
   "language": "python",
   "name": "python3"
  },
  "language_info": {
   "codemirror_mode": {
    "name": "ipython",
    "version": 3
   },
   "file_extension": ".py",
   "mimetype": "text/x-python",
   "name": "python",
   "nbconvert_exporter": "python",
   "pygments_lexer": "ipython3",
   "version": "3.9.0"
  }
 },
 "nbformat": 4,
 "nbformat_minor": 5
}
